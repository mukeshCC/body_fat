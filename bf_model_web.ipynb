{
 "cells": [
  {
   "cell_type": "code",
   "execution_count": 1,
   "id": "1e37ebbe",
   "metadata": {},
   "outputs": [],
   "source": [
    "import pandas as pd\n",
    "import matplotlib.pyplot as plt\n",
    "import seaborn as sns\n",
    "import numpy as np\n",
    "%matplotlib inline"
   ]
  },
  {
   "cell_type": "code",
   "execution_count": 2,
   "id": "b01f409e",
   "metadata": {},
   "outputs": [],
   "source": [
    "#pip install catboost"
   ]
  },
  {
   "cell_type": "code",
   "execution_count": 2,
   "id": "cc8a8292",
   "metadata": {},
   "outputs": [
    {
     "data": {
      "text/html": [
       "<div>\n",
       "<style scoped>\n",
       "    .dataframe tbody tr th:only-of-type {\n",
       "        vertical-align: middle;\n",
       "    }\n",
       "\n",
       "    .dataframe tbody tr th {\n",
       "        vertical-align: top;\n",
       "    }\n",
       "\n",
       "    .dataframe thead th {\n",
       "        text-align: right;\n",
       "    }\n",
       "</style>\n",
       "<table border=\"1\" class=\"dataframe\">\n",
       "  <thead>\n",
       "    <tr style=\"text-align: right;\">\n",
       "      <th></th>\n",
       "      <th>BodyFatPercentage</th>\n",
       "      <th>Age</th>\n",
       "      <th>Weight_kg</th>\n",
       "      <th>Height_m</th>\n",
       "      <th>Height</th>\n",
       "      <th>Neck_Size</th>\n",
       "      <th>Abdomen_Size</th>\n",
       "      <th>Chest_Size</th>\n",
       "      <th>Hip_Size</th>\n",
       "      <th>Thigh_Size</th>\n",
       "      <th>Waist_Size</th>\n",
       "      <th>Knee_Size</th>\n",
       "      <th>Biceps_Size</th>\n",
       "      <th>Forearm_Size</th>\n",
       "      <th>Wrist_Size</th>\n",
       "      <th>BMI</th>\n",
       "    </tr>\n",
       "  </thead>\n",
       "  <tbody>\n",
       "    <tr>\n",
       "      <th>0</th>\n",
       "      <td>20.61</td>\n",
       "      <td>21</td>\n",
       "      <td>55.5</td>\n",
       "      <td>1.67</td>\n",
       "      <td>167.0</td>\n",
       "      <td>34.0</td>\n",
       "      <td>76.0</td>\n",
       "      <td>86.0</td>\n",
       "      <td>90.0</td>\n",
       "      <td>51.0</td>\n",
       "      <td>84.0</td>\n",
       "      <td>35.0</td>\n",
       "      <td>29.0</td>\n",
       "      <td>25.0</td>\n",
       "      <td>16.0</td>\n",
       "      <td>19.900319</td>\n",
       "    </tr>\n",
       "    <tr>\n",
       "      <th>1</th>\n",
       "      <td>25.70</td>\n",
       "      <td>50</td>\n",
       "      <td>71.5</td>\n",
       "      <td>1.66</td>\n",
       "      <td>166.0</td>\n",
       "      <td>39.0</td>\n",
       "      <td>100.0</td>\n",
       "      <td>95.0</td>\n",
       "      <td>102.0</td>\n",
       "      <td>51.0</td>\n",
       "      <td>96.0</td>\n",
       "      <td>40.0</td>\n",
       "      <td>29.0</td>\n",
       "      <td>28.0</td>\n",
       "      <td>17.0</td>\n",
       "      <td>25.947162</td>\n",
       "    </tr>\n",
       "    <tr>\n",
       "      <th>2</th>\n",
       "      <td>12.28</td>\n",
       "      <td>22</td>\n",
       "      <td>54.0</td>\n",
       "      <td>1.63</td>\n",
       "      <td>163.0</td>\n",
       "      <td>36.0</td>\n",
       "      <td>68.0</td>\n",
       "      <td>84.0</td>\n",
       "      <td>91.0</td>\n",
       "      <td>46.0</td>\n",
       "      <td>75.0</td>\n",
       "      <td>34.0</td>\n",
       "      <td>24.0</td>\n",
       "      <td>24.0</td>\n",
       "      <td>17.0</td>\n",
       "      <td>20.324438</td>\n",
       "    </tr>\n",
       "    <tr>\n",
       "      <th>3</th>\n",
       "      <td>20.11</td>\n",
       "      <td>26</td>\n",
       "      <td>63.7</td>\n",
       "      <td>1.74</td>\n",
       "      <td>174.0</td>\n",
       "      <td>36.0</td>\n",
       "      <td>82.0</td>\n",
       "      <td>89.0</td>\n",
       "      <td>91.0</td>\n",
       "      <td>45.0</td>\n",
       "      <td>87.0</td>\n",
       "      <td>33.0</td>\n",
       "      <td>28.0</td>\n",
       "      <td>27.0</td>\n",
       "      <td>18.0</td>\n",
       "      <td>21.039767</td>\n",
       "    </tr>\n",
       "    <tr>\n",
       "      <th>4</th>\n",
       "      <td>22.76</td>\n",
       "      <td>28</td>\n",
       "      <td>64.5</td>\n",
       "      <td>1.71</td>\n",
       "      <td>171.0</td>\n",
       "      <td>34.0</td>\n",
       "      <td>90.0</td>\n",
       "      <td>87.0</td>\n",
       "      <td>91.0</td>\n",
       "      <td>43.0</td>\n",
       "      <td>88.0</td>\n",
       "      <td>36.0</td>\n",
       "      <td>28.0</td>\n",
       "      <td>27.0</td>\n",
       "      <td>17.0</td>\n",
       "      <td>22.058069</td>\n",
       "    </tr>\n",
       "    <tr>\n",
       "      <th>5</th>\n",
       "      <td>25.48</td>\n",
       "      <td>48</td>\n",
       "      <td>68.2</td>\n",
       "      <td>1.60</td>\n",
       "      <td>160.0</td>\n",
       "      <td>37.0</td>\n",
       "      <td>93.0</td>\n",
       "      <td>88.0</td>\n",
       "      <td>99.0</td>\n",
       "      <td>46.0</td>\n",
       "      <td>92.0</td>\n",
       "      <td>37.0</td>\n",
       "      <td>29.0</td>\n",
       "      <td>27.0</td>\n",
       "      <td>19.0</td>\n",
       "      <td>26.640625</td>\n",
       "    </tr>\n",
       "    <tr>\n",
       "      <th>6</th>\n",
       "      <td>28.72</td>\n",
       "      <td>23</td>\n",
       "      <td>74.5</td>\n",
       "      <td>1.67</td>\n",
       "      <td>167.0</td>\n",
       "      <td>35.0</td>\n",
       "      <td>96.0</td>\n",
       "      <td>95.0</td>\n",
       "      <td>102.0</td>\n",
       "      <td>52.0</td>\n",
       "      <td>97.0</td>\n",
       "      <td>38.0</td>\n",
       "      <td>27.0</td>\n",
       "      <td>26.0</td>\n",
       "      <td>19.0</td>\n",
       "      <td>26.713041</td>\n",
       "    </tr>\n",
       "    <tr>\n",
       "      <th>7</th>\n",
       "      <td>20.81</td>\n",
       "      <td>20</td>\n",
       "      <td>57.5</td>\n",
       "      <td>1.70</td>\n",
       "      <td>170.0</td>\n",
       "      <td>33.0</td>\n",
       "      <td>80.0</td>\n",
       "      <td>84.0</td>\n",
       "      <td>86.0</td>\n",
       "      <td>48.0</td>\n",
       "      <td>84.0</td>\n",
       "      <td>36.0</td>\n",
       "      <td>25.0</td>\n",
       "      <td>24.0</td>\n",
       "      <td>17.0</td>\n",
       "      <td>19.896194</td>\n",
       "    </tr>\n",
       "    <tr>\n",
       "      <th>8</th>\n",
       "      <td>18.57</td>\n",
       "      <td>20</td>\n",
       "      <td>57.0</td>\n",
       "      <td>1.70</td>\n",
       "      <td>170.0</td>\n",
       "      <td>34.0</td>\n",
       "      <td>81.0</td>\n",
       "      <td>80.0</td>\n",
       "      <td>92.0</td>\n",
       "      <td>50.0</td>\n",
       "      <td>82.0</td>\n",
       "      <td>33.0</td>\n",
       "      <td>26.0</td>\n",
       "      <td>25.0</td>\n",
       "      <td>18.0</td>\n",
       "      <td>19.723183</td>\n",
       "    </tr>\n",
       "  </tbody>\n",
       "</table>\n",
       "</div>"
      ],
      "text/plain": [
       "   BodyFatPercentage  Age   Weight_kg  Height_m  Height  Neck_Size  \\\n",
       "0              20.61    21       55.5      1.67   167.0       34.0   \n",
       "1              25.70    50       71.5      1.66   166.0       39.0   \n",
       "2              12.28    22       54.0      1.63   163.0       36.0   \n",
       "3              20.11    26       63.7      1.74   174.0       36.0   \n",
       "4              22.76    28       64.5      1.71   171.0       34.0   \n",
       "5              25.48    48       68.2      1.60   160.0       37.0   \n",
       "6              28.72    23       74.5      1.67   167.0       35.0   \n",
       "7              20.81    20       57.5      1.70   170.0       33.0   \n",
       "8              18.57    20       57.0      1.70   170.0       34.0   \n",
       "\n",
       "   Abdomen_Size  Chest_Size  Hip_Size  Thigh_Size  Waist_Size  Knee_Size  \\\n",
       "0          76.0        86.0      90.0        51.0        84.0       35.0   \n",
       "1         100.0        95.0     102.0        51.0        96.0       40.0   \n",
       "2          68.0        84.0      91.0        46.0        75.0       34.0   \n",
       "3          82.0        89.0      91.0        45.0        87.0       33.0   \n",
       "4          90.0        87.0      91.0        43.0        88.0       36.0   \n",
       "5          93.0        88.0      99.0        46.0        92.0       37.0   \n",
       "6          96.0        95.0     102.0        52.0        97.0       38.0   \n",
       "7          80.0        84.0      86.0        48.0        84.0       36.0   \n",
       "8          81.0        80.0      92.0        50.0        82.0       33.0   \n",
       "\n",
       "   Biceps_Size  Forearm_Size  Wrist_Size        BMI  \n",
       "0         29.0          25.0        16.0  19.900319  \n",
       "1         29.0          28.0        17.0  25.947162  \n",
       "2         24.0          24.0        17.0  20.324438  \n",
       "3         28.0          27.0        18.0  21.039767  \n",
       "4         28.0          27.0        17.0  22.058069  \n",
       "5         29.0          27.0        19.0  26.640625  \n",
       "6         27.0          26.0        19.0  26.713041  \n",
       "7         25.0          24.0        17.0  19.896194  \n",
       "8         26.0          25.0        18.0  19.723183  "
      ]
     },
     "execution_count": 2,
     "metadata": {},
     "output_type": "execute_result"
    }
   ],
   "source": [
    "df= pd.read_csv(\"BF_model_dataa.csv\")\n",
    "df.head(9)"
   ]
  },
  {
   "cell_type": "code",
   "execution_count": 3,
   "id": "77de30f5",
   "metadata": {},
   "outputs": [
    {
     "data": {
      "text/plain": [
       "Index(['BodyFatPercentage', 'Age ', 'Weight_kg', 'Height_m', 'Height',\n",
       "       'Neck_Size', 'Abdomen_Size', 'Chest_Size', 'Hip_Size', 'Thigh_Size',\n",
       "       'Waist_Size', 'Knee_Size', 'Biceps_Size', 'Forearm_Size', 'Wrist_Size',\n",
       "       'BMI'],\n",
       "      dtype='object')"
      ]
     },
     "execution_count": 3,
     "metadata": {},
     "output_type": "execute_result"
    }
   ],
   "source": [
    "df.columns"
   ]
  },
  {
   "cell_type": "code",
   "execution_count": 4,
   "id": "f2f6ddc3",
   "metadata": {},
   "outputs": [],
   "source": [
    "df.drop(columns=['Height_m'],inplace=True)"
   ]
  },
  {
   "cell_type": "code",
   "execution_count": null,
   "id": "7430e22c",
   "metadata": {},
   "outputs": [],
   "source": []
  },
  {
   "cell_type": "code",
   "execution_count": null,
   "id": "0823e93c",
   "metadata": {},
   "outputs": [],
   "source": []
  },
  {
   "cell_type": "code",
   "execution_count": null,
   "id": "4c735bd3",
   "metadata": {},
   "outputs": [],
   "source": []
  },
  {
   "cell_type": "code",
   "execution_count": 5,
   "id": "1332659c",
   "metadata": {},
   "outputs": [
    {
     "data": {
      "text/plain": [
       "Index(['BodyFatPercentage', 'Age ', 'Weight_kg', 'Height', 'Neck_Size',\n",
       "       'Abdomen_Size', 'Chest_Size', 'Hip_Size', 'Thigh_Size', 'Waist_Size',\n",
       "       'Knee_Size', 'Biceps_Size', 'Forearm_Size', 'Wrist_Size', 'BMI'],\n",
       "      dtype='object')"
      ]
     },
     "execution_count": 5,
     "metadata": {},
     "output_type": "execute_result"
    }
   ],
   "source": [
    "df.columns"
   ]
  },
  {
   "cell_type": "code",
   "execution_count": 6,
   "id": "33b44451",
   "metadata": {},
   "outputs": [],
   "source": [
    "df1 = df.drop(columns=['Age ', 'Weight_kg', 'Neck_Size',\n",
    "        'Chest_Size', 'Thigh_Size',\n",
    "       'Knee_Size', 'Biceps_Size', 'Forearm_Size', 'Wrist_Size'])"
   ]
  },
  {
   "cell_type": "code",
   "execution_count": 7,
   "id": "f8d3c797",
   "metadata": {},
   "outputs": [
    {
     "data": {
      "text/html": [
       "<div>\n",
       "<style scoped>\n",
       "    .dataframe tbody tr th:only-of-type {\n",
       "        vertical-align: middle;\n",
       "    }\n",
       "\n",
       "    .dataframe tbody tr th {\n",
       "        vertical-align: top;\n",
       "    }\n",
       "\n",
       "    .dataframe thead th {\n",
       "        text-align: right;\n",
       "    }\n",
       "</style>\n",
       "<table border=\"1\" class=\"dataframe\">\n",
       "  <thead>\n",
       "    <tr style=\"text-align: right;\">\n",
       "      <th></th>\n",
       "      <th>BodyFatPercentage</th>\n",
       "      <th>Height</th>\n",
       "      <th>Abdomen_Size</th>\n",
       "      <th>Hip_Size</th>\n",
       "      <th>Waist_Size</th>\n",
       "      <th>BMI</th>\n",
       "    </tr>\n",
       "  </thead>\n",
       "  <tbody>\n",
       "    <tr>\n",
       "      <th>0</th>\n",
       "      <td>20.61</td>\n",
       "      <td>167.0</td>\n",
       "      <td>76.0</td>\n",
       "      <td>90.0</td>\n",
       "      <td>84.0</td>\n",
       "      <td>19.900319</td>\n",
       "    </tr>\n",
       "    <tr>\n",
       "      <th>1</th>\n",
       "      <td>25.70</td>\n",
       "      <td>166.0</td>\n",
       "      <td>100.0</td>\n",
       "      <td>102.0</td>\n",
       "      <td>96.0</td>\n",
       "      <td>25.947162</td>\n",
       "    </tr>\n",
       "    <tr>\n",
       "      <th>2</th>\n",
       "      <td>12.28</td>\n",
       "      <td>163.0</td>\n",
       "      <td>68.0</td>\n",
       "      <td>91.0</td>\n",
       "      <td>75.0</td>\n",
       "      <td>20.324438</td>\n",
       "    </tr>\n",
       "  </tbody>\n",
       "</table>\n",
       "</div>"
      ],
      "text/plain": [
       "   BodyFatPercentage  Height  Abdomen_Size  Hip_Size  Waist_Size        BMI\n",
       "0              20.61   167.0          76.0      90.0        84.0  19.900319\n",
       "1              25.70   166.0         100.0     102.0        96.0  25.947162\n",
       "2              12.28   163.0          68.0      91.0        75.0  20.324438"
      ]
     },
     "execution_count": 7,
     "metadata": {},
     "output_type": "execute_result"
    }
   ],
   "source": [
    "df1.head(3)"
   ]
  },
  {
   "cell_type": "code",
   "execution_count": 8,
   "id": "cc9e2234",
   "metadata": {},
   "outputs": [],
   "source": [
    "x = df1.iloc[:,1:]\n",
    "y = df1.iloc[:,0]"
   ]
  },
  {
   "cell_type": "code",
   "execution_count": 9,
   "id": "fc2bc0d2",
   "metadata": {},
   "outputs": [],
   "source": [
    "from sklearn.model_selection import train_test_split"
   ]
  },
  {
   "cell_type": "code",
   "execution_count": 10,
   "id": "d3e60ca2",
   "metadata": {},
   "outputs": [],
   "source": [
    "xtrain,xtest,ytrain,ytest = train_test_split(x,y,test_size=0.20,random_state=1)"
   ]
  },
  {
   "cell_type": "code",
   "execution_count": 11,
   "id": "be40b99a",
   "metadata": {},
   "outputs": [
    {
     "data": {
      "text/plain": [
       "((257, 5), (65, 5), (257,), (65,))"
      ]
     },
     "execution_count": 11,
     "metadata": {},
     "output_type": "execute_result"
    }
   ],
   "source": [
    "xtrain.shape,xtest.shape,ytrain.shape,ytest.shape"
   ]
  },
  {
   "cell_type": "code",
   "execution_count": 12,
   "id": "8104f5ea",
   "metadata": {},
   "outputs": [],
   "source": [
    "from sklearn.linear_model import LinearRegression\n",
    "from sklearn.tree import DecisionTreeRegressor\n",
    "from sklearn.tree import plot_tree\n",
    "from sklearn.ensemble import RandomForestRegressor,AdaBoostRegressor,GradientBoostingRegressor\n",
    "from sklearn.naive_bayes import GaussianNB\n",
    "from sklearn.svm import SVR\n",
    "from sklearn.neighbors import KNeighborsRegressor\n",
    "from xgboost import XGBRegressor\n",
    "#from catboost import CatBoostRegressor\n",
    "from sklearn.metrics import mean_absolute_error,mean_squared_error,r2_score"
   ]
  },
  {
   "cell_type": "code",
   "execution_count": 13,
   "id": "d965716c",
   "metadata": {},
   "outputs": [
    {
     "name": "stdout",
     "output_type": "stream",
     "text": [
      "R2 Score is :  0.7209138664529157\n",
      "MAE  is :  3.4145747647721985\n",
      "MSE is :  20.382371267024947\n",
      "Mean of Residuals 7.824264366541182e-15\n"
     ]
    }
   ],
   "source": [
    "LR = LinearRegression()\n",
    "LR.fit(xtrain,ytrain)\n",
    "pred_lr=LR.predict(xtest)\n",
    "r2_LR = r2_score(pred_lr,ytest)\n",
    "mae_LR = mean_absolute_error(pred_lr,ytest)\n",
    "mse_LR = mean_squared_error(pred_lr,ytest)\n",
    "print(\"R2 Score is : \",r2_LR)\n",
    "print(\"MAE  is : \",mae_LR)\n",
    "print(\"MSE is : \",mse_LR)\n",
    "y_pred = LR.predict(xtrain)\n",
    "residuals =ytrain.values-y_pred\n",
    "mean_residuals = np.mean(residuals)\n",
    "print(\"Mean of Residuals {}\".format(mean_residuals))  #close to 0 so good"
   ]
  },
  {
   "cell_type": "code",
   "execution_count": 14,
   "id": "93b4efbb",
   "metadata": {},
   "outputs": [
    {
     "data": {
      "image/png": "[encoded data removed]",
      "text/plain": [
       "<Figure size 640x480 with 1 Axes>"
      ]
     },
     "metadata": {},
     "output_type": "display_data"
    }
   ],
   "source": [
    "import matplotlib.pyplot as plt\n",
    "\n",
    "# Assuming LR is your Linear Regression model\n",
    "y_pred = LR.predict(xtrain)\n",
    "residuals = ytrain.values - y_pred\n",
    "\n",
    "# Plot residuals vs. predicted values\n",
    "plt.scatter(y_pred, residuals)\n",
    "plt.axhline(y=0, color='r', linestyle='--', linewidth=2)\n",
    "plt.xlabel('Predicted Values')\n",
    "plt.ylabel('Residuals')\n",
    "plt.title('Residuals vs. Predicted Values')\n",
    "plt.show()\n"
   ]
  },
  {
   "cell_type": "code",
   "execution_count": 15,
   "id": "4838fe89",
   "metadata": {},
   "outputs": [
    {
     "name": "stdout",
     "output_type": "stream",
     "text": [
      "R2 Score is :  0.5152995712259172\n",
      "MAE  is :  4.048615384615383\n",
      "MSE is :  34.87807076923077\n"
     ]
    }
   ],
   "source": [
    "DT = DecisionTreeRegressor()\n",
    "DT.fit(xtrain,ytrain)\n",
    "pred_DT=DT.predict(xtest)\n",
    "r2_DT = r2_score(pred_DT,ytest)\n",
    "mae_DT = mean_absolute_error(pred_DT,ytest)\n",
    "mse_DT = mean_squared_error(pred_DT,ytest)\n",
    "print(\"R2 Score is : \",r2_DT)\n",
    "print(\"MAE  is : \",mae_DT)\n",
    "print(\"MSE is : \",mse_DT)"
   ]
  },
  {
   "cell_type": "code",
   "execution_count": 16,
   "id": "28a39027",
   "metadata": {},
   "outputs": [
    {
     "name": "stdout",
     "output_type": "stream",
     "text": [
      "R2 Score is :  0.5876168266858725\n",
      "MAE  is :  3.3305446153846168\n",
      "MSE is :  21.171182602153866\n"
     ]
    }
   ],
   "source": [
    "RF = RandomForestRegressor()\n",
    "RF.fit(xtrain,ytrain)\n",
    "pred_RF=RF.predict(xtest)\n",
    "r2_RF = r2_score(pred_RF,ytest)\n",
    "mae_RF = mean_absolute_error(pred_RF,ytest)\n",
    "mse_RF = mean_squared_error(pred_RF,ytest)\n",
    "print(\"R2 Score is : \",r2_RF)\n",
    "print(\"MAE  is : \",mae_RF)\n",
    "print(\"MSE is : \",mse_RF)"
   ]
  },
  {
   "cell_type": "code",
   "execution_count": 17,
   "id": "b20937a9",
   "metadata": {},
   "outputs": [
    {
     "name": "stdout",
     "output_type": "stream",
     "text": [
      "R2 Score is :  0.7224444961144686\n",
      "MAE  is :  3.447700065710239\n",
      "MSE is :  21.953427749742307\n"
     ]
    }
   ],
   "source": [
    "SV =SVR(kernel=\"linear\")\n",
    "SV.fit(xtrain,ytrain)\n",
    "pred_SV=SV.predict(xtest)\n",
    "r2_SV = r2_score(pred_SV,ytest)\n",
    "mae_SV = mean_absolute_error(pred_SV,ytest)\n",
    "mse_SV = mean_squared_error(pred_SV,ytest)\n",
    "print(\"R2 Score is : \",r2_SV)\n",
    "print(\"MAE  is : \",mae_SV)\n",
    "print(\"MSE is : \",mse_SV)"
   ]
  },
  {
   "cell_type": "code",
   "execution_count": 18,
   "id": "b0902bd6",
   "metadata": {},
   "outputs": [],
   "source": [
    "# nb = GaussianNB()\n",
    "# nb.fit(xtrain,ytrain)\n",
    "# pred_nb=nb.predict(xtest)\n",
    "# r2_nb = r2_score(pred_nb,ytest)\n",
    "# mae_nb = mean_absolute_error(pred_nb,ytest)\n",
    "# mse_nb = mean_squared_error(pred_nb,ytest)\n",
    "# print(\"R2 Score is : \",r2_nb)\n",
    "# print(\"MAE  is : \",mae_nb)\n",
    "# print(\"MSE is : \",mse_nb)"
   ]
  },
  {
   "cell_type": "code",
   "execution_count": 19,
   "id": "44ef631d",
   "metadata": {},
   "outputs": [
    {
     "name": "stdout",
     "output_type": "stream",
     "text": [
      "R2 Score is :  0.5178842830937425\n",
      "MAE  is :  3.8034153846153846\n",
      "MSE is :  25.148554400000002\n"
     ]
    }
   ],
   "source": [
    "knn =KNeighborsRegressor()\n",
    "knn.fit(xtrain,ytrain)\n",
    "pred_knn=knn.predict(xtest)\n",
    "r2_knn = r2_score(pred_knn,ytest)\n",
    "mae_knn = mean_absolute_error(pred_knn,ytest)\n",
    "mse_knn = mean_squared_error(pred_knn,ytest)\n",
    "print(\"R2 Score is : \",r2_knn)\n",
    "print(\"MAE  is : \",mae_knn)\n",
    "print(\"MSE is : \",mse_knn)"
   ]
  },
  {
   "cell_type": "code",
   "execution_count": 20,
   "id": "c534160b",
   "metadata": {},
   "outputs": [
    {
     "name": "stdout",
     "output_type": "stream",
     "text": [
      "R2 Score is :  0.7163729190178496\n",
      "MAE  is :  3.1529614187387316\n",
      "MSE is :  19.086341359803836\n"
     ]
    }
   ],
   "source": [
    "xgb = XGBRegressor()\n",
    "xgb.fit(xtrain,ytrain)\n",
    "pred_xgb=xgb.predict(xtest)\n",
    "r2_xgb = r2_score(pred_xgb,ytest)\n",
    "mae_xgb = mean_absolute_error(pred_xgb,ytest)\n",
    "mse_xgb = mean_squared_error(pred_xgb,ytest)\n",
    "print(\"R2 Score is : \",r2_xgb)\n",
    "print(\"MAE  is : \",mae_xgb)\n",
    "print(\"MSE is : \",mse_xgb)"
   ]
  },
  {
   "cell_type": "code",
   "execution_count": 21,
   "id": "a6e3b791",
   "metadata": {},
   "outputs": [
    {
     "name": "stdout",
     "output_type": "stream",
     "text": [
      "R2 Score is :  0.08234322619043322\n",
      "MAE  is :  4.644125175812021\n",
      "MSE is :  28.56567423513117\n"
     ]
    }
   ],
   "source": [
    "adb = AdaBoostRegressor()\n",
    "adb.fit(xtrain,ytrain)\n",
    "pred_adb=adb.predict(xtest)\n",
    "r2_adb = r2_score(pred_adb,ytest)\n",
    "mae_adb = mean_absolute_error(pred_adb,ytest)\n",
    "mse_adb = mean_squared_error(pred_adb,ytest)\n",
    "print(\"R2 Score is : \",r2_adb)\n",
    "print(\"MAE  is : \",mae_adb)\n",
    "print(\"MSE is : \",mse_adb)"
   ]
  },
  {
   "cell_type": "code",
   "execution_count": 22,
   "id": "48851ee8",
   "metadata": {},
   "outputs": [
    {
     "ename": "NameError",
     "evalue": "name 'CatBoostRegressor' is not defined",
     "output_type": "error",
     "traceback": [
      "\u001b[1;31m---------------------------------------------------------------------------\u001b[0m",
      "\u001b[1;31mNameError\u001b[0m                                 Traceback (most recent call last)",
      "Cell \u001b[1;32mIn[22], line 1\u001b[0m\n\u001b[1;32m----> 1\u001b[0m cat \u001b[38;5;241m=\u001b[39m \u001b[43mCatBoostRegressor\u001b[49m()\n\u001b[0;32m      2\u001b[0m cat\u001b[38;5;241m.\u001b[39mfit(xtrain,ytrain)\n\u001b[0;32m      3\u001b[0m pred_cat\u001b[38;5;241m=\u001b[39mcat\u001b[38;5;241m.\u001b[39mpredict(xtest)\n",
      "\u001b[1;31mNameError\u001b[0m: name 'CatBoostRegressor' is not defined"
     ]
    }
   ],
   "source": [
    "cat = CatBoostRegressor()\n",
    "cat.fit(xtrain,ytrain)\n",
    "pred_cat=cat.predict(xtest)\n",
    "r2_cat = r2_score(pred_cat,ytest)\n",
    "mae_cat = mean_absolute_error(pred_cat,ytest)\n",
    "mse_cat = mean_squared_error(pred_cat,ytest)\n",
    "print(\"R2 Score is : \",r2_cat)\n",
    "print(\"MAE  is : \",mae_cat)\n",
    "print(\"MSE is : \",mse_cat)"
   ]
  },
  {
   "cell_type": "code",
   "execution_count": 23,
   "id": "21dd2083",
   "metadata": {},
   "outputs": [
    {
     "name": "stdout",
     "output_type": "stream",
     "text": [
      "R2 Score is :  0.6580792345779358\n",
      "MAE  is :  3.2308027349407498\n",
      "MSE is :  19.70537654329371\n"
     ]
    }
   ],
   "source": [
    "gb = GradientBoostingRegressor()\n",
    "gb.fit(xtrain,ytrain)\n",
    "pred_gb=gb.predict(xtest)\n",
    "r2_gb = r2_score(pred_gb,ytest)\n",
    "mae_gb = mean_absolute_error(pred_gb,ytest)\n",
    "mse_gb = mean_squared_error(pred_gb,ytest)\n",
    "print(\"R2 Score is : \",r2_gb)\n",
    "print(\"MAE  is : \",mae_gb)\n",
    "print(\"MSE is : \",mse_gb)"
   ]
  },
  {
   "cell_type": "code",
   "execution_count": null,
   "id": "d2551bf6",
   "metadata": {},
   "outputs": [],
   "source": []
  },
  {
   "cell_type": "code",
   "execution_count": 24,
   "id": "23c829a9",
   "metadata": {},
   "outputs": [],
   "source": [
    "# ['Height', 'Hip_Size', 'Waist_Size', 'Neck_Size', 'BMI'],"
   ]
  },
  {
   "cell_type": "code",
   "execution_count": 25,
   "id": "a2135cae",
   "metadata": {},
   "outputs": [],
   "source": [
    "df2 = df.drop(columns=[ 'Age ', 'Weight_kg',\n",
    "       'Abdomen_Size', 'Chest_Size', 'Thigh_Size',\n",
    "       'Knee_Size', 'Biceps_Size', 'Forearm_Size', 'Wrist_Size'])"
   ]
  },
  {
   "cell_type": "code",
   "execution_count": 26,
   "id": "eb0270d7",
   "metadata": {},
   "outputs": [
    {
     "data": {
      "text/html": [
       "<div>\n",
       "<style scoped>\n",
       "    .dataframe tbody tr th:only-of-type {\n",
       "        vertical-align: middle;\n",
       "    }\n",
       "\n",
       "    .dataframe tbody tr th {\n",
       "        vertical-align: top;\n",
       "    }\n",
       "\n",
       "    .dataframe thead th {\n",
       "        text-align: right;\n",
       "    }\n",
       "</style>\n",
       "<table border=\"1\" class=\"dataframe\">\n",
       "  <thead>\n",
       "    <tr style=\"text-align: right;\">\n",
       "      <th></th>\n",
       "      <th>BodyFatPercentage</th>\n",
       "      <th>Height</th>\n",
       "      <th>Neck_Size</th>\n",
       "      <th>Hip_Size</th>\n",
       "      <th>Waist_Size</th>\n",
       "      <th>BMI</th>\n",
       "    </tr>\n",
       "  </thead>\n",
       "  <tbody>\n",
       "    <tr>\n",
       "      <th>0</th>\n",
       "      <td>20.61</td>\n",
       "      <td>167.0</td>\n",
       "      <td>34.0</td>\n",
       "      <td>90.0</td>\n",
       "      <td>84.0</td>\n",
       "      <td>19.900319</td>\n",
       "    </tr>\n",
       "    <tr>\n",
       "      <th>1</th>\n",
       "      <td>25.70</td>\n",
       "      <td>166.0</td>\n",
       "      <td>39.0</td>\n",
       "      <td>102.0</td>\n",
       "      <td>96.0</td>\n",
       "      <td>25.947162</td>\n",
       "    </tr>\n",
       "    <tr>\n",
       "      <th>2</th>\n",
       "      <td>12.28</td>\n",
       "      <td>163.0</td>\n",
       "      <td>36.0</td>\n",
       "      <td>91.0</td>\n",
       "      <td>75.0</td>\n",
       "      <td>20.324438</td>\n",
       "    </tr>\n",
       "  </tbody>\n",
       "</table>\n",
       "</div>"
      ],
      "text/plain": [
       "   BodyFatPercentage  Height  Neck_Size  Hip_Size  Waist_Size        BMI\n",
       "0              20.61   167.0       34.0      90.0        84.0  19.900319\n",
       "1              25.70   166.0       39.0     102.0        96.0  25.947162\n",
       "2              12.28   163.0       36.0      91.0        75.0  20.324438"
      ]
     },
     "execution_count": 26,
     "metadata": {},
     "output_type": "execute_result"
    }
   ],
   "source": [
    "df2.head(3)"
   ]
  },
  {
   "cell_type": "code",
   "execution_count": 27,
   "id": "3e491b6c",
   "metadata": {},
   "outputs": [],
   "source": [
    "x2 = df2.iloc[:,1:]\n",
    "y2 = df2.iloc[:,0]"
   ]
  },
  {
   "cell_type": "code",
   "execution_count": 28,
   "id": "a0d2d742",
   "metadata": {},
   "outputs": [],
   "source": [
    "xtrain2,xtest2,ytrain2,ytest2 = train_test_split(x2,y2,test_size=0.20,random_state=1)"
   ]
  },
  {
   "cell_type": "code",
   "execution_count": 29,
   "id": "02d9713e",
   "metadata": {},
   "outputs": [
    {
     "name": "stdout",
     "output_type": "stream",
     "text": [
      "R2 Score is :  0.7663963527851385\n",
      "MAE  is :  3.0091257656660835\n",
      "MSE is :  17.13239133893438\n"
     ]
    }
   ],
   "source": [
    "LR2 = LinearRegression()\n",
    "LR2.fit(xtrain2,ytrain2)\n",
    "pred_lr2=LR2.predict(xtest2)\n",
    "r2_LR2 = r2_score(pred_lr2,ytest2)\n",
    "mae_LR2 = mean_absolute_error(pred_lr2,ytest2)\n",
    "mse_LR2 = mean_squared_error(pred_lr2,ytest2)\n",
    "print(\"R2 Score is : \",r2_LR2)\n",
    "print(\"MAE  is : \",mae_LR2)\n",
    "print(\"MSE is : \",mse_LR2)"
   ]
  },
  {
   "cell_type": "code",
   "execution_count": 30,
   "id": "fc3cdefe",
   "metadata": {},
   "outputs": [
    {
     "name": "stdout",
     "output_type": "stream",
     "text": [
      "R2 Score is :  0.6047063892870191\n",
      "MAE  is :  3.857538461538461\n",
      "MSE is :  32.294476923076914\n"
     ]
    }
   ],
   "source": [
    "DT2 = DecisionTreeRegressor()\n",
    "DT2.fit(xtrain2,ytrain2)\n",
    "pred_DT2=DT2.predict(xtest2)\n",
    "r2_DT2 = r2_score(pred_DT2,ytest2)\n",
    "mae_DT2 = mean_absolute_error(pred_DT2,ytest2)\n",
    "mse_DT2 = mean_squared_error(pred_DT2,ytest2)\n",
    "print(\"R2 Score is : \",r2_DT2)\n",
    "print(\"MAE  is : \",mae_DT2)\n",
    "print(\"MSE is : \",mse_DT2)"
   ]
  },
  {
   "cell_type": "code",
   "execution_count": 31,
   "id": "26a9c862",
   "metadata": {},
   "outputs": [
    {
     "name": "stdout",
     "output_type": "stream",
     "text": [
      "R2 Score is :  0.6435194144491281\n",
      "MAE  is :  3.161063076923077\n",
      "MSE is :  18.8583070903077\n"
     ]
    }
   ],
   "source": [
    "RF2 = RandomForestRegressor()\n",
    "RF2.fit(xtrain2,ytrain2)\n",
    "pred_RF2=RF2.predict(xtest2)\n",
    "r2_RF2 = r2_score(pred_RF2,ytest2)\n",
    "mae_RF2 = mean_absolute_error(pred_RF2,ytest2)\n",
    "mse_RF2 = mean_squared_error(pred_RF2,ytest2)\n",
    "print(\"R2 Score is : \",r2_RF2)\n",
    "print(\"MAE  is : \",mae_RF2)\n",
    "print(\"MSE is : \",mse_RF2)"
   ]
  },
  {
   "cell_type": "code",
   "execution_count": 32,
   "id": "8ccbe1c6",
   "metadata": {},
   "outputs": [
    {
     "name": "stdout",
     "output_type": "stream",
     "text": [
      "R2 Score is :  0.7518494677124731\n",
      "MAE  is :  3.136553236368205\n",
      "MSE is :  20.253958307887515\n"
     ]
    }
   ],
   "source": [
    "SV2 =SVR(kernel=\"linear\")\n",
    "SV2.fit(xtrain2,ytrain2)\n",
    "pred_SV2=SV2.predict(xtest2)\n",
    "r2_SV2 = r2_score(pred_SV2,ytest2)\n",
    "mae_SV2 = mean_absolute_error(pred_SV2,ytest2)\n",
    "mse_SV2 = mean_squared_error(pred_SV2,ytest2)\n",
    "print(\"R2 Score is : \",r2_SV2)\n",
    "print(\"MAE  is : \",mae_SV2)\n",
    "print(\"MSE is : \",mse_SV2)"
   ]
  },
  {
   "cell_type": "code",
   "execution_count": 33,
   "id": "7aa34097",
   "metadata": {},
   "outputs": [
    {
     "name": "stdout",
     "output_type": "stream",
     "text": [
      "R2 Score is :  0.5865000601860036\n",
      "MAE  is :  3.4661230769230764\n",
      "MSE is :  21.633503076923073\n"
     ]
    }
   ],
   "source": [
    "knn2 =KNeighborsRegressor()\n",
    "knn2.fit(xtrain2,ytrain2)\n",
    "pred_knn2=knn2.predict(xtest2)\n",
    "r2_knn2 = r2_score(pred_knn2,ytest2)\n",
    "mae_knn2 = mean_absolute_error(pred_knn2,ytest2)\n",
    "mse_knn2 = mean_squared_error(pred_knn2,ytest2)\n",
    "print(\"R2 Score is : \",r2_knn2)\n",
    "print(\"MAE  is : \",mae_knn2)\n",
    "print(\"MSE is : \",mse_knn2)"
   ]
  },
  {
   "cell_type": "code",
   "execution_count": 34,
   "id": "8f16c792",
   "metadata": {},
   "outputs": [],
   "source": [
    "# nb2 = GaussianNB()\n",
    "# nb2.fit(xtrain2,ytrain2)\n",
    "# pred_nb2=nb2.predict(xtest2)\n",
    "# r2_nb2 = r2_score(pred_nb2,ytest2)\n",
    "# mae_nb2 = mean_absolute_error(pred_nb2,ytest2)\n",
    "# mse_nb2 = mean_squared_error(pred_nb2,ytest2)\n",
    "# print(\"R2 Score is : \",r2_nb2)\n",
    "# print(\"MAE  is : \",mae_nb2)\n",
    "# print(\"MSE is : \",mse_nb2)"
   ]
  },
  {
   "cell_type": "code",
   "execution_count": 35,
   "id": "03498b2d",
   "metadata": {},
   "outputs": [
    {
     "name": "stdout",
     "output_type": "stream",
     "text": [
      "R2 Score is :  0.6991827375171458\n",
      "MAE  is :  3.0721390146108774\n",
      "MSE is :  19.16991546118017\n"
     ]
    }
   ],
   "source": [
    "xgb2 = XGBRegressor()\n",
    "xgb2.fit(xtrain2,ytrain2)\n",
    "pred_xgb2=xgb2.predict(xtest2)\n",
    "r2_xgb2 = r2_score(pred_xgb2,ytest2)\n",
    "mae_xgb2 = mean_absolute_error(pred_xgb2,ytest2)\n",
    "mse_xgb2 = mean_squared_error(pred_xgb2,ytest2)\n",
    "print(\"R2 Score is : \",r2_xgb2)\n",
    "print(\"MAE  is : \",mae_xgb2)\n",
    "print(\"MSE is : \",mse_xgb2)"
   ]
  },
  {
   "cell_type": "code",
   "execution_count": 36,
   "id": "6ec2bb10",
   "metadata": {},
   "outputs": [
    {
     "name": "stdout",
     "output_type": "stream",
     "text": [
      "R2 Score is :  0.27603396938607916\n",
      "MAE  is :  4.514932659414135\n",
      "MSE is :  24.198698507160998\n"
     ]
    }
   ],
   "source": [
    "adb2 = AdaBoostRegressor()\n",
    "adb2.fit(xtrain2,ytrain2)\n",
    "pred_adb2=adb2.predict(xtest2)\n",
    "r2_adb2 = r2_score(pred_adb2,ytest2)\n",
    "mae_adb2 = mean_absolute_error(pred_adb2,ytest2)\n",
    "mse_adb2 = mean_squared_error(pred_adb2,ytest2)\n",
    "print(\"R2 Score is : \",r2_adb2)\n",
    "print(\"MAE  is : \",mae_adb2)\n",
    "print(\"MSE is : \",mse_adb2)"
   ]
  },
  {
   "cell_type": "code",
   "execution_count": null,
   "id": "3e6ec881",
   "metadata": {},
   "outputs": [],
   "source": [
    "cat2 = CatBoostRegressor()\n",
    "cat2.fit(xtrain2,ytrain2)\n",
    "pred_cat2=cat2.predict(xtest2)\n",
    "r2_cat2 = r2_score(pred_cat2,ytest2)\n",
    "mae_cat2 = mean_absolute_error(pred_cat2,ytest2)\n",
    "mse_cat2 = mean_squared_error(pred_cat2,ytest2)\n",
    "print(\"R2 Score is : \",r2_cat2)\n",
    "print(\"MAE  is : \",mae_cat2)\n",
    "print(\"MSE is : \",mse_cat2)"
   ]
  },
  {
   "cell_type": "code",
   "execution_count": 37,
   "id": "713a4c99",
   "metadata": {},
   "outputs": [
    {
     "name": "stdout",
     "output_type": "stream",
     "text": [
      "R2 Score is :  0.7542216942120012\n",
      "MAE  is :  2.5943618024201407\n",
      "MSE is :  13.631106957217783\n"
     ]
    }
   ],
   "source": [
    "gb2 = GradientBoostingRegressor()\n",
    "gb2.fit(xtrain2,ytrain2)\n",
    "pred_gb2=gb2.predict(xtest2)\n",
    "r2_gb2 = r2_score(pred_gb2,ytest2)\n",
    "mae_gb2 = mean_absolute_error(pred_gb2,ytest2)\n",
    "mse_gb2 = mean_squared_error(pred_gb2,ytest2)\n",
    "print(\"R2 Score is : \",r2_gb2)\n",
    "print(\"MAE  is : \",mae_gb2)\n",
    "print(\"MSE is : \",mse_gb2)"
   ]
  },
  {
   "cell_type": "code",
   "execution_count": null,
   "id": "0e3e8ae8",
   "metadata": {},
   "outputs": [],
   "source": []
  },
  {
   "cell_type": "code",
   "execution_count": 38,
   "id": "28d0c3cd",
   "metadata": {},
   "outputs": [],
   "source": [
    "# # Import necessary libraries\n",
    "# import pandas as pd\n",
    "# from sklearn.model_selection import train_test_split\n",
    "# from sklearn.ensemble import RandomForestRegressor, GradientBoostingRegressor\n",
    "# from sklearn.linear_model import LinearRegression\n",
    "# from sklearn.metrics import r2_score\n",
    "# import pickle\n",
    "\n",
    "# # Load your dataset (replace 'your_dataset.csv' with the actual file name)\n",
    "# df = pd.read_csv('BF_model_dataa.csv')\n",
    "# df = df.drop(columns=['Height_m'])\n",
    "\n",
    "# # Separate features (X) and target variable (y)\n",
    "# X = df.drop('BodyFatPercentage', axis=1)\n",
    "# y = df['BodyFatPercentage']\n",
    "\n",
    "# # Split the data into training and testing sets\n",
    "# X_train, X_test, y_train, y_test = train_test_split(X, y, test_size=0.2, random_state=1)\n",
    "\n",
    "# # Define a list of models to try\n",
    "# models = [\n",
    "#     ('Linear Regression', LinearRegression()),\n",
    "#     ('Random Forest', RandomForestRegressor()),\n",
    "#     ('Gradient Boosting', GradientBoostingRegressor())\n",
    "# ]\n",
    "\n",
    "# # Train and evaluate each model\n",
    "# best_model_name = ''\n",
    "# best_model = None\n",
    "# best_r2_score = -1\n",
    "\n",
    "# for model_name, model in models:\n",
    "#     model.fit(X_train, y_train)\n",
    "#     y_pred = model.predict(X_test)\n",
    "#     r2 = r2_score(y_test, y_pred)\n",
    "\n",
    "#     print(f'{model_name} R2 Score: {r2}')\n",
    "\n",
    "#     # Update the best model if the current model has a higher R2 score\n",
    "#     if r2 > best_r2_score:\n",
    "#         best_r2_score = r2\n",
    "#         best_model_name = model_name\n",
    "#         best_model = model\n",
    "\n",
    "# # Save the best model using pickle\n",
    "# with open('best_model.pkl', 'wb') as model_file:\n",
    "#     pickle.dump(best_model, model_file)\n",
    "\n",
    "# print(f'Best Model: {best_model_name} with R2 Score: {best_r2_score}')\n"
   ]
  },
  {
   "cell_type": "code",
   "execution_count": 44,
   "id": "fed97600",
   "metadata": {},
   "outputs": [
    {
     "data": {
      "text/plain": [
       "Index(['Height', 'Neck_Size', 'Hip_Size', 'Waist_Size'], dtype='object')"
      ]
     },
     "execution_count": 44,
     "metadata": {},
     "output_type": "execute_result"
    }
   ],
   "source": [
    "X.columns"
   ]
  },
  {
   "cell_type": "code",
   "execution_count": 40,
   "id": "10521a02",
   "metadata": {},
   "outputs": [],
   "source": [
    "# # Import necessary libraries\n",
    "# import pandas as pd\n",
    "# from sklearn.model_selection import train_test_split\n",
    "# from sklearn.ensemble import RandomForestRegressor, GradientBoostingRegressor\n",
    "# from sklearn.linear_model import LinearRegression\n",
    "# from sklearn.metrics import r2_score\n",
    "# import pickle\n",
    "\n",
    "# # Load your dataset (replace 'your_dataset.csv' with the actual file name)\n",
    "# df = pd.read_csv('BF_model_dataa.csv')\n",
    "# df1 = df.drop(columns=['Age ', 'Weight_kg', 'Neck_Size',\n",
    "#         'Chest_Size', 'Thigh_Size','Height_m',\n",
    "#        'Knee_Size', 'Biceps_Size', 'Forearm_Size', 'Wrist_Size'])\n",
    "# # Separate features (X) and target variable (y)\n",
    "# X = df1.drop('BodyFatPercentage', axis=1)\n",
    "# y = df1['BodyFatPercentage']\n",
    "\n",
    "# # Split the data into training and testing sets\n",
    "# X_train, X_test, y_train, y_test = train_test_split(X, y, test_size=0.2, random_state=42)\n",
    "\n",
    "# # Define a list of models to try\n",
    "# models = [\n",
    "#     ('Linear Regression', LinearRegression()),\n",
    "#     ('Random Forest', RandomForestRegressor()),\n",
    "#     ('Gradient Boosting', GradientBoostingRegressor())\n",
    "# ]\n",
    "\n",
    "# # Train and evaluate each model\n",
    "# best_model_name = ''\n",
    "# best_model = None\n",
    "# best_r2_score = -1\n",
    "\n",
    "# for model_name, model in models:\n",
    "#     model.fit(X_train, y_train)\n",
    "#     y_pred = model.predict(X_test)\n",
    "#     r2 = r2_score(y_test, y_pred)\n",
    "\n",
    "#     print(f'{model_name} R2 Score: {r2}')\n",
    "\n",
    "#     # Update the best model if the current model has a higher R2 score\n",
    "#     if r2 > best_r2_score:\n",
    "#         best_r2_score = r2\n",
    "#         best_model_name = model_name\n",
    "#         best_model = model\n",
    "\n",
    "# # Save the best model using pickle\n",
    "# with open('best_model.pkl', 'wb') as model_file:\n",
    "#     pickle.dump(best_model, model_file)\n",
    "\n",
    "# print(f'Best Model: {best_model_name} with R2 Score: {best_r2_score}')\n"
   ]
  },
  {
   "cell_type": "code",
   "execution_count": 43,
   "id": "eb98cede",
   "metadata": {},
   "outputs": [
    {
     "data": {
      "text/plain": [
       "Index(['Height', 'Neck_Size', 'Hip_Size', 'Waist_Size'], dtype='object')"
      ]
     },
     "execution_count": 43,
     "metadata": {},
     "output_type": "execute_result"
    }
   ],
   "source": [
    "X.columns"
   ]
  },
  {
   "cell_type": "code",
   "execution_count": 42,
   "id": "696c9cda",
   "metadata": {},
   "outputs": [
    {
     "name": "stdout",
     "output_type": "stream",
     "text": [
      "Linear Regression R2 Score: 0.8249321046561685\n",
      "Random Forest R2 Score: 0.8015909036303852\n",
      "Gradient Boosting R2 Score: 0.8149270902268253\n",
      "Best Model: Linear Regression with R2 Score: 0.8249321046561685\n"
     ]
    }
   ],
   "source": [
    "# Import necessary libraries\n",
    "import pandas as pd\n",
    "from sklearn.model_selection import train_test_split\n",
    "from sklearn.ensemble import RandomForestRegressor, GradientBoostingRegressor\n",
    "from sklearn.linear_model import LinearRegression\n",
    "from sklearn.metrics import r2_score\n",
    "import pickle\n",
    "\n",
    "# Load your dataset (replace 'your_dataset.csv' with the actual file name)\n",
    "df = pd.read_csv('BF_model_dataa.csv')\n",
    "df2 = df.drop(columns=[ 'Age ', 'Weight_kg',\n",
    "       'Abdomen_Size', 'Chest_Size', 'Thigh_Size','Height_m',\n",
    "       'Knee_Size', 'Biceps_Size', 'Forearm_Size', 'Wrist_Size','BMI'])\n",
    "# Separate features (X) and target variable (y)\n",
    "X = df2.drop('BodyFatPercentage', axis=1)\n",
    "y = df2['BodyFatPercentage']\n",
    "\n",
    "# Split the data into training and testing sets\n",
    "X_train, X_test, y_train, y_test = train_test_split(X, y, test_size=0.2, random_state=42)\n",
    "\n",
    "# Define a list of models to try\n",
    "models = [\n",
    "    ('Linear Regression', LinearRegression()),\n",
    "    ('Random Forest', RandomForestRegressor()),\n",
    "    ('Gradient Boosting', GradientBoostingRegressor())\n",
    "]\n",
    "\n",
    "# Train and evaluate each model\n",
    "best_model_name = ''\n",
    "best_model = None\n",
    "best_r2_score = -1\n",
    "\n",
    "for model_name, model in models:\n",
    "    model.fit(X_train, y_train)\n",
    "    y_pred = model.predict(X_test)\n",
    "    r2 = r2_score(y_test, y_pred)\n",
    "\n",
    "    print(f'{model_name} R2 Score: {r2}')\n",
    "\n",
    "    # Update the best model if the current model has a higher R2 score\n",
    "    if r2 > best_r2_score:\n",
    "        best_r2_score = r2\n",
    "        best_model_name = model_name\n",
    "        best_model = model\n",
    "\n",
    "# Save the best model using pickle\n",
    "with open('best_model.pkl', 'wb') as model_file:\n",
    "    pickle.dump(best_model, model_file)\n",
    "\n",
    "print(f'Best Model: {best_model_name} with R2 Score: {best_r2_score}')"
   ]
  },
  {
   "cell_type": "code",
   "execution_count": 45,
   "id": "24a85650",
   "metadata": {},
   "outputs": [
    {
     "data": {
      "text/plain": [
       "Index(['Height', 'Neck_Size', 'Hip_Size', 'Waist_Size'], dtype='object')"
      ]
     },
     "execution_count": 45,
     "metadata": {},
     "output_type": "execute_result"
    }
   ],
   "source": [
    " X.columns"
   ]
  },
  {
   "cell_type": "code",
   "execution_count": 46,
   "id": "226f65c3",
   "metadata": {},
   "outputs": [],
   "source": [
    "df2.to_csv(\"web_data.csv\",index=False)"
   ]
  },
  {
   "cell_type": "code",
   "execution_count": null,
   "id": "ec34ea8d",
   "metadata": {},
   "outputs": [],
   "source": []
  },
  {
   "cell_type": "code",
   "execution_count": null,
   "id": "3f988c70",
   "metadata": {},
   "outputs": [],
   "source": []
  },
  {
   "cell_type": "code",
   "execution_count": null,
   "id": "94be6ee8",
   "metadata": {},
   "outputs": [],
   "source": []
  }
 ],
 "metadata": {
  "kernelspec": {
   "display_name": "Python 3 (ipykernel)",
   "language": "python",
   "name": "python3"
  },
  "language_info": {
   "codemirror_mode": {
    "name": "ipython",
    "version": 3
   },
   "file_extension": ".py",
   "mimetype": "text/x-python",
   "name": "python",
   "nbconvert_exporter": "python",
   "pygments_lexer": "ipython3",
   "version": "3.10.9"
  }
 },
 "nbformat": 4,
 "nbformat_minor": 5
}
